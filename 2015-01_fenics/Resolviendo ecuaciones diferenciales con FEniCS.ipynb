{
 "metadata": {
  "celltoolbar": "Slideshow",
  "name": "",
  "signature": "sha256:baaa4b5976b14896f5692e14bf41c709abc12324747f075832c78723410158ae"
 },
 "nbformat": 3,
 "nbformat_minor": 0,
 "worksheets": [
  {
   "cells": [
    {
     "cell_type": "markdown",
     "metadata": {
      "slideshow": {
       "slide_type": "slide"
      }
     },
     "source": [
      "# Resolviendo ecuaciones diferenciales con FEniCS\n",
      "\n",
      "![Placa extra\u00f1a](./strange-plate.png)\n",
      "\n",
      "<h3>Juan Luis Cano Rodr\u00edguez <juanlu@pybonacci.org> <br />\n",
      "Python Madrid, 2015-01-28</h3>"
     ]
    },
    {
     "cell_type": "markdown",
     "metadata": {
      "slideshow": {
       "slide_type": "slide"
      }
     },
     "source": [
      "# \u00cdndice\n",
      "\n",
      "1. Introducci\u00f3n (5 minutos)\n",
      "  * Qu\u00e9 es\n",
      "  * Qui\u00e9n soy\n",
      "  * Por qu\u00e9 lo uso\n",
      "  * M\u00e9todo de los elementos finitos\n",
      "2. Arquitectura (3 minutos)\n",
      "3. Instalaci\u00f3n (2 minutos)\n",
      "4. Ejemplo b\u00e1sico (5 minutos)\n",
      "  * Mallado\n",
      "  * Espacio de funciones\n",
      "  * Formulaci\u00f3n variacional\n",
      "  * Condiciones de contorno\n",
      "  * Resoluci\u00f3n del sistema\n",
      "  * Representaci\u00f3n --> Mirar opciones de Viper\n",
      "5. Problemas m\u00e1s complejos (5 minutos)\n",
      "  * Mallado con Gmsh\n",
      "  * \u00a1Demo!\n",
      "  * \u00bfQu\u00e9 me estoy dejando?\n",
      "6. Recursos y alternativas\n",
      "  * Documentaci\u00f3n\n",
      "  * SfePy y FiPy\n",
      "7. Conclusiones\n",
      "8. Q & A"
     ]
    },
    {
     "cell_type": "markdown",
     "metadata": {
      "slideshow": {
       "slide_type": "slide"
      }
     },
     "source": [
      "# 1. Introducci\u00f3n"
     ]
    },
    {
     "cell_type": "markdown",
     "metadata": {
      "slideshow": {
       "slide_type": "slide"
      }
     },
     "source": [
      "# 2. Arquitectura"
     ]
    },
    {
     "cell_type": "markdown",
     "metadata": {
      "slideshow": {
       "slide_type": "slide"
      }
     },
     "source": [
      "# 3. Instalaci\u00f3n"
     ]
    },
    {
     "cell_type": "markdown",
     "metadata": {
      "slideshow": {
       "slide_type": "slide"
      }
     },
     "source": [
      "# 4. Ejemplo b\u00e1sico"
     ]
    },
    {
     "cell_type": "markdown",
     "metadata": {
      "slideshow": {
       "slide_type": "slide"
      }
     },
     "source": [
      "# 5. Problemas m\u00e1s complejos"
     ]
    },
    {
     "cell_type": "markdown",
     "metadata": {
      "slideshow": {
       "slide_type": "slide"
      }
     },
     "source": [
      "# 6. Recursos y alternativas"
     ]
    },
    {
     "cell_type": "markdown",
     "metadata": {
      "slideshow": {
       "slide_type": "slide"
      }
     },
     "source": [
      "# 7. Conclusiones"
     ]
    },
    {
     "cell_type": "markdown",
     "metadata": {
      "slideshow": {
       "slide_type": "slide"
      }
     },
     "source": [
      "# Q & A"
     ]
    }
   ],
   "metadata": {}
  }
 ]
}