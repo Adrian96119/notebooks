{
 "cells": [
  {
   "cell_type": "markdown",
   "metadata": {},
   "source": [
    "Dentro de la biblioteca estándar de Python dispones de auténticas joyas, muchas veces ignoradas u olvidadas. Es por ello que voy a empezar un breve pero intenso recorrido por algunas piezas de arte disponibles de serie.\n",
    "\n",
    "# Módulo `collections`\n",
    "\n",
    "Con la ayuda de este módulo puedes aumentar las estructuras de datos típicas disponibles en Python (listas, tuplas, diccionarios,...). Veamos algunas utilidades disponibles:\n",
    "\n",
    "## `ChainMap`\n",
    "\n",
    "**Solo Python 3. Actualízate!!**\n",
    "\n",
    "Dicho en bruto, es un conglomerado de diccionarios (también conocidos como *mappings* o *hash tables*).\n",
    "\n",
    "Para que puede ser útil:\n",
    "\n",
    "* [Ejemplos en la documentación de Python](https://docs.python.org/3/library/collections.html#chainmap-examples-and-recipes).\n",
    "* Actualizar partes de una configuración.\n",
    "* Actualizar un diccionario pero que pueda ser de forma reversible.\n",
    "* [Ejemplos de uso en github](https://github.com/search?l=python&q=from+collections+import+Chainmap&ref=searchresults&type=Code&utf8=%E2%9C%93).\n",
    "* ...\n",
    "\n",
    "Ejemplo, imaginemos que tenemos un diccionario de configuración `dict_a`, que posee las claves `a` y `b`, y queremos actualizar sus valores con otros pares *clave:valor* que están en el diccionario `dict_b`, que posee las claves `b` y `c`. Podemos hacer:"
   ]
  },
  {
   "cell_type": "code",
   "execution_count": 1,
   "metadata": {
    "collapsed": false
   },
   "outputs": [
    {
     "name": "stdout",
     "output_type": "stream",
     "text": [
      "a 1\n",
      "c 1000\n",
      "b 10\n"
     ]
    }
   ],
   "source": [
    "from collections import ChainMap\n",
    "\n",
    "dict_a = {'a': 1, 'b': 10}\n",
    "dict_b = {'b': 100, 'c': 1000}\n",
    "\n",
    "cm = ChainMap(dict_a, dict_b)\n",
    "for key, value in cm.items():\n",
    "    print(key, value)"
   ]
  },
  {
   "cell_type": "markdown",
   "metadata": {},
   "source": [
    "Hemos añadido el valor de la clave `c` de `dict_b` sin necesidad de modificar nuestro diccionario original de configuración `dict_a`, es decir, hemos hecho un 'cambio' reversible. También podemos 'sobreescribir' las claves que están en nuestro diccionario original de configuración, `dict_b` variando los parámetros del constructor:"
   ]
  },
  {
   "cell_type": "code",
   "execution_count": 2,
   "metadata": {
    "collapsed": false
   },
   "outputs": [
    {
     "name": "stdout",
     "output_type": "stream",
     "text": [
      "a 1\n",
      "c 1000\n",
      "b 100\n"
     ]
    }
   ],
   "source": [
    "cm = ChainMap(dict_b, dict_a)\n",
    "for key, value in cm.items():\n",
    "    print(key, value)"
   ]
  },
  {
   "cell_type": "markdown",
   "metadata": {},
   "source": [
    "Vemos que, además de añadir la clave `c`, hemos sobreescrito la clave `b`.\n",
    "\n",
    "Los diccionarios originales están disponibles haciendo uso del atributo `maps`:"
   ]
  },
  {
   "cell_type": "code",
   "execution_count": 3,
   "metadata": {
    "collapsed": false
   },
   "outputs": [
    {
     "data": {
      "text/plain": [
       "[{'b': 100, 'c': 1000}, {'a': 1, 'b': 10}]"
      ]
     },
     "execution_count": 3,
     "metadata": {},
     "output_type": "execute_result"
    }
   ],
   "source": [
    "cm.maps"
   ]
  },
  {
   "cell_type": "markdown",
   "metadata": {},
   "source": [
    "Ejercicio: haced un `dir` de `cm` y un `dir` de `dict_a` y veréis que los atributos y métodos disponibles son parecidos.\n",
    "\n",
    "Más información en [este hilo de stackoverflow](https://stackoverflow.com/questions/23392976/what-is-the-purpose-of-collections-chainmap) en el que me he basado para el ejemplo anterior (¿basar y copiar no son sinónimos?).\n",
    "\n",
    "## `Counter`\n",
    "\n",
    "Permite contar ocurrencias de forma simple. En realidad, su funcionalidad se podría conseguir sin problemas con algunas líneas extra de código pero ya que lo tenemos, está testeado e implementado por gente experta vamos a aprovecharnos de ello.\n",
    "\n",
    "En la documentación oficial hay [algunos ejemplos interesantes](https://docs.python.org/3/library/collections.html#counter-objects) y en github podéis encontrar [unos cuantos más](https://github.com/search?l=python&q=from+collections+import+Counter&ref=searchresults&type=Code&utf8=%E2%9C%93). Veamos un ejemplo simple pero potente, yo trabajo mucho con datos meteorológicos y uno de los problemas recurrentes es tener fechas repetidas que no deberían existir (pero pasa demasiado a menudo). Una forma rápida de buscar problemas de estos en ficheros, lanzar una alarma, sería:"
   ]
  },
  {
   "cell_type": "code",
   "execution_count": 4,
   "metadata": {
    "collapsed": false
   },
   "outputs": [
    {
     "name": "stdout",
     "output_type": "stream",
     "text": [
      "fichero con fecha repetida\n"
     ]
    }
   ],
   "source": [
    "from io import StringIO\n",
    "from collections import Counter\n",
    "\n",
    "virtual_file = StringIO(\"\"\"2010/01/01 2.7\n",
    "2010/01/02 2.2\n",
    "2010/01/03 2.1\n",
    "2010/01/04 2.3\n",
    "2010/01/05 2.4\n",
    "2010/01/06 2.2\n",
    "2010/01/02 2.2\n",
    "2010/01/03 2.1\n",
    "2010/01/04 2.3\n",
    "\"\"\")\n",
    "\n",
    "if Counter(virtual_file.readlines()).most_common(1)[0][1] > 1:\n",
    "    print('fichero con fecha repetida')"
   ]
  },
  {
   "cell_type": "markdown",
   "metadata": {},
   "source": [
    "## `namedtuple`\n",
    "\n",
    "A veces me toca crear algún tipo de estructura que guarda datos y algunos metadatos. Una forma simple sin crear una clase ad-hoc sería usar un diccionario. Un ejemplo simple sería:"
   ]
  },
  {
   "cell_type": "code",
   "execution_count": 21,
   "metadata": {
    "collapsed": false
   },
   "outputs": [
    {
     "name": "stdout",
     "output_type": "stream",
     "text": [
      "{'fecha_inicial': datetime.datetime(2016, 1, 1, 0, 0),\n",
      " 'frecuencia': datetime.timedelta(0, 600),\n",
      " 'parametro': 'wind_speed',\n",
      " 'unidades': 'm/s',\n",
      " 'valores': array([  1.66798849e-01,  -8.10562099e-01,  -2.22577515e-01,\n",
      "         7.21753084e-01,  -8.77873884e-01,  -3.05772491e-01,\n",
      "         4.01297617e-01,   4.09603814e-01,  -3.64456284e-01,\n",
      "        -1.62534413e+00,   1.20389741e+00,  -9.55447598e-01,\n",
      "         8.93198800e-01,  -4.17195768e-01,  -4.26509171e-02,\n",
      "        -9.52507235e-01,  -1.74664331e+00,  -1.55617582e+00,\n",
      "        -4.87457248e-01,  -1.09056621e-01,  -3.75649544e-01,\n",
      "         6.58552038e-01,   7.91284719e-01,   2.37866164e-01,\n",
      "        -2.01427274e+00,  -2.64573257e-01,   4.44205039e-01,\n",
      "        -1.14177006e+00,  -1.45566539e+00,  -8.51340286e-01,\n",
      "         1.15973222e+00,  -1.57294073e+00,  -1.60970015e+00,\n",
      "         8.00223102e-01,  -5.54753393e-01,   4.28100458e-01,\n",
      "         1.82447911e+00,  -1.23086637e+00,  -2.12550747e+00,\n",
      "        -1.03142583e+00,  -3.23690811e-01,  -5.55159630e-03,\n",
      "         9.70122105e-01,  -3.25153403e-01,  -9.03859013e-01,\n",
      "        -1.58227671e-02,  -2.77769648e-01,   3.15491337e-01,\n",
      "         1.34748033e+00,   4.93525202e-01,  -3.64522779e-02,\n",
      "         2.16444571e+00,  -4.71859193e-01,  -7.87195418e-01,\n",
      "        -5.88092935e-01,   7.32188230e-01,   5.08364711e-01,\n",
      "        -2.82433339e-01,   4.55989344e-01,   5.02762829e-01,\n",
      "        -1.11804715e+00,   7.68216812e-01,  -7.79386220e-01,\n",
      "         1.14038309e+00,  -2.27129167e+00,  -5.14496419e-01,\n",
      "        -6.38103508e-01,   7.96703859e-01,  -9.64308080e-01,\n",
      "        -1.55993667e+00,   1.26564250e-02,   4.39850312e-01,\n",
      "         6.57359246e-02,   3.10661987e-02,   3.32045872e-01,\n",
      "         1.09837917e-01,   2.54236139e-01,  -3.99342523e-01,\n",
      "         2.09449178e+00,   1.79127540e+00,  -1.02225001e+00,\n",
      "         2.43007564e-01,  -5.17440069e-01,  -1.28000567e+00,\n",
      "        -4.34978224e-01,   1.66664041e+00,  -1.79110762e+00,\n",
      "        -1.69747341e+00,  -5.86581989e-01,  -4.48217525e-04,\n",
      "         4.03347896e-01,  -7.01870364e-01,   1.19270342e+00,\n",
      "        -2.11576696e+00,  -9.17816007e-01,  -1.08965360e-01,\n",
      "        -1.04785281e-01,   7.70814063e-01,  -4.44472871e-01,\n",
      "         6.00031197e-01])}\n"
     ]
    }
   ],
   "source": [
    "import numpy as np\n",
    "import datetime as dt\n",
    "from pprint import pprint\n",
    "\n",
    "datos = {\n",
    "    'valores': np.random.randn(100),\n",
    "    'frecuencia': dt.timedelta(minutes = 10),\n",
    "    'fecha_inicial': dt.datetime(2016, 1, 1, 0, 0),\n",
    "    'parametro': 'wind_speed',\n",
    "    'unidades': 'm/s'\n",
    "}\n",
    "\n",
    "pprint(datos)"
   ]
  },
  {
   "cell_type": "markdown",
   "metadata": {},
   "source": [
    "Lo anterior es simple y rápido pero usando una `namedtuple` dispongo de algo parecido con algunas cosas extra. Veamos un ejemplo similar usando `namedtuple`:"
   ]
  },
  {
   "cell_type": "code",
   "execution_count": 26,
   "metadata": {
    "collapsed": false
   },
   "outputs": [
    {
     "name": "stdout",
     "output_type": "stream",
     "text": [
      "Datos(valores=array([-1.15088413, -2.56514991,  1.44608296,  0.54379682, -0.90522011,\n",
      "       -0.16566468, -0.35177371, -0.54329507,  0.49884539, -1.47496928,\n",
      "        0.34977761,  0.17185979,  1.0841466 ,  0.72980301,  0.74948793,\n",
      "       -0.58893627, -1.02718887, -0.91649217,  1.33860119,  0.39608563,\n",
      "       -1.35736068, -1.31573163, -1.83301115,  0.8785257 ,  0.88054639,\n",
      "       -0.70983137, -0.60080374,  0.37122572,  1.35695541, -1.64514249,\n",
      "       -0.43831246, -0.35866056,  1.60847917, -0.22826239, -1.37596102,\n",
      "       -0.95290935,  0.3905279 , -1.19999519,  0.42577439,  0.69913995,\n",
      "        0.86171438,  0.97124497,  0.89628371, -0.70415439, -0.69986264,\n",
      "       -0.06708162,  0.15825805,  0.40558181,  0.04844905, -0.65195386,\n",
      "       -0.78209848,  0.47753236, -1.41130276,  0.56886563,  1.28510891,\n",
      "       -0.92577124,  1.01705266, -0.92242978,  0.55834513,  0.38484962,\n",
      "        0.18166509, -1.66409028,  0.11990668,  0.45760692, -0.57324399,\n",
      "       -1.28583163, -0.00380156,  0.07755123,  0.64245163, -0.41804237,\n",
      "        1.48719097,  0.08556443, -0.59397126, -0.15754885, -0.83679231,\n",
      "        0.43162761, -1.1355951 ,  0.29833502, -1.18802814,  1.07681989,\n",
      "        1.59099178,  1.55838678, -2.63623898, -1.3661257 , -0.25901522,\n",
      "        0.91729319,  0.24629912,  0.32400678, -1.57864924,  1.02031939,\n",
      "       -1.52587005, -0.92695522, -1.42637641, -2.67003242, -0.52319482,\n",
      "        0.48513703, -0.51274288,  0.6409108 , -1.37179502, -0.6796619 ]), frecuencia=datetime.timedelta(0, 600), fecha_inicial=datetime.datetime(2016, 1, 1, 0, 0), parametro='wind_speed', unidades='m/s')\n"
     ]
    }
   ],
   "source": [
    "from collections import namedtuple\n",
    "\n",
    "Datos = namedtuple('Datos', 'valores frecuencia fecha_inicial parametro unidades')\n",
    "\n",
    "datos = Datos(np.random.randn(100), \n",
    "              dt.timedelta(minutes = 10),\n",
    "              dt.datetime(2016, 1, 1, 0, 0),\n",
    "              'wind_speed',\n",
    "              'm/s')\n",
    "print(datos)"
   ]
  },
  {
   "cell_type": "markdown",
   "metadata": {},
   "source": [
    "Ventajas que le veo con respecto a lo anterior:\n",
    "\n",
    "* Puedo acceder a los 'campos' o claves del diccionario usando *dot notation*"
   ]
  },
  {
   "cell_type": "code",
   "execution_count": 27,
   "metadata": {
    "collapsed": false
   },
   "outputs": [
    {
     "name": "stdout",
     "output_type": "stream",
     "text": [
      "[-1.15088413 -2.56514991  1.44608296  0.54379682 -0.90522011 -0.16566468\n",
      " -0.35177371 -0.54329507  0.49884539 -1.47496928  0.34977761  0.17185979\n",
      "  1.0841466   0.72980301  0.74948793 -0.58893627 -1.02718887 -0.91649217\n",
      "  1.33860119  0.39608563 -1.35736068 -1.31573163 -1.83301115  0.8785257\n",
      "  0.88054639 -0.70983137 -0.60080374  0.37122572  1.35695541 -1.64514249\n",
      " -0.43831246 -0.35866056  1.60847917 -0.22826239 -1.37596102 -0.95290935\n",
      "  0.3905279  -1.19999519  0.42577439  0.69913995  0.86171438  0.97124497\n",
      "  0.89628371 -0.70415439 -0.69986264 -0.06708162  0.15825805  0.40558181\n",
      "  0.04844905 -0.65195386 -0.78209848  0.47753236 -1.41130276  0.56886563\n",
      "  1.28510891 -0.92577124  1.01705266 -0.92242978  0.55834513  0.38484962\n",
      "  0.18166509 -1.66409028  0.11990668  0.45760692 -0.57324399 -1.28583163\n",
      " -0.00380156  0.07755123  0.64245163 -0.41804237  1.48719097  0.08556443\n",
      " -0.59397126 -0.15754885 -0.83679231  0.43162761 -1.1355951   0.29833502\n",
      " -1.18802814  1.07681989  1.59099178  1.55838678 -2.63623898 -1.3661257\n",
      " -0.25901522  0.91729319  0.24629912  0.32400678 -1.57864924  1.02031939\n",
      " -1.52587005 -0.92695522 -1.42637641 -2.67003242 -0.52319482  0.48513703\n",
      " -0.51274288  0.6409108  -1.37179502 -0.6796619 ]\n"
     ]
    }
   ],
   "source": [
    "print(datos.valores)"
   ]
  },
  {
   "cell_type": "markdown",
   "metadata": {},
   "source": [
    "* Puedo ver el código usado para crear la estructura de datos usando `verbose = True`. Usa `exec` [entre bambalinas](https://hg.python.org/cpython/file/3.5/Lib/collections/__init__.py#l301) (o_O). Puedo ver que todas las claves se transforman en `property`'s. Puedo ver que se crea documentación... MAGIA en estado puro!!!\n",
    "\n",
    "(Si no quieres usar la keyword `verbose = True` puedes seguir teniendo acceso en un objeto usando `obj._source`)"
   ]
  },
  {
   "cell_type": "code",
   "execution_count": 32,
   "metadata": {
    "collapsed": false
   },
   "outputs": [
    {
     "name": "stdout",
     "output_type": "stream",
     "text": [
      "from builtins import property as _property, tuple as _tuple\n",
      "from operator import itemgetter as _itemgetter\n",
      "from collections import OrderedDict\n",
      "\n",
      "class Datos(tuple):\n",
      "    'Datos(valores, frecuencia, fecha_inicial, parametro, unidades)'\n",
      "\n",
      "    __slots__ = ()\n",
      "\n",
      "    _fields = ('valores', 'frecuencia', 'fecha_inicial', 'parametro', 'unidades')\n",
      "\n",
      "    def __new__(_cls, valores, frecuencia, fecha_inicial, parametro, unidades):\n",
      "        'Create new instance of Datos(valores, frecuencia, fecha_inicial, parametro, unidades)'\n",
      "        return _tuple.__new__(_cls, (valores, frecuencia, fecha_inicial, parametro, unidades))\n",
      "\n",
      "    @classmethod\n",
      "    def _make(cls, iterable, new=tuple.__new__, len=len):\n",
      "        'Make a new Datos object from a sequence or iterable'\n",
      "        result = new(cls, iterable)\n",
      "        if len(result) != 5:\n",
      "            raise TypeError('Expected 5 arguments, got %d' % len(result))\n",
      "        return result\n",
      "\n",
      "    def _replace(_self, **kwds):\n",
      "        'Return a new Datos object replacing specified fields with new values'\n",
      "        result = _self._make(map(kwds.pop, ('valores', 'frecuencia', 'fecha_inicial', 'parametro', 'unidades'), _self))\n",
      "        if kwds:\n",
      "            raise ValueError('Got unexpected field names: %r' % list(kwds))\n",
      "        return result\n",
      "\n",
      "    def __repr__(self):\n",
      "        'Return a nicely formatted representation string'\n",
      "        return self.__class__.__name__ + '(valores=%r, frecuencia=%r, fecha_inicial=%r, parametro=%r, unidades=%r)' % self\n",
      "\n",
      "    def _asdict(self):\n",
      "        'Return a new OrderedDict which maps field names to their values.'\n",
      "        return OrderedDict(zip(self._fields, self))\n",
      "\n",
      "    def __getnewargs__(self):\n",
      "        'Return self as a plain tuple.  Used by copy and pickle.'\n",
      "        return tuple(self)\n",
      "\n",
      "    valores = _property(_itemgetter(0), doc='Alias for field number 0')\n",
      "\n",
      "    frecuencia = _property(_itemgetter(1), doc='Alias for field number 1')\n",
      "\n",
      "    fecha_inicial = _property(_itemgetter(2), doc='Alias for field number 2')\n",
      "\n",
      "    parametro = _property(_itemgetter(3), doc='Alias for field number 3')\n",
      "\n",
      "    unidades = _property(_itemgetter(4), doc='Alias for field number 4')\n",
      "\n",
      "\n"
     ]
    }
   ],
   "source": [
    "Datos = namedtuple('Datos', 'valores frecuencia fecha_inicial parametro unidades', verbose = True)"
   ]
  },
  {
   "cell_type": "code",
   "execution_count": 37,
   "metadata": {
    "collapsed": false
   },
   "outputs": [
    {
     "name": "stdout",
     "output_type": "stream",
     "text": [
      "from builtins import property as _property, tuple as _tuple\n",
      "from operator import itemgetter as _itemgetter\n",
      "from collections import OrderedDict\n",
      "\n",
      "class Datos(tuple):\n",
      "    'Datos(valores, frecuencia, fecha_inicial, parametro, unidades)'\n",
      "\n",
      "    __slots__ = ()\n",
      "\n",
      "    _fields = ('valores', 'frecuencia', 'fecha_inicial', 'parametro', 'unidades')\n",
      "\n",
      "    def __new__(_cls, valores, frecuencia, fecha_inicial, parametro, unidades):\n",
      "        'Create new instance of Datos(valores, frecuencia, fecha_inicial, parametro, unidades)'\n",
      "        return _tuple.__new__(_cls, (valores, frecuencia, fecha_inicial, parametro, unidades))\n",
      "\n",
      "    @classmethod\n",
      "    def _make(cls, iterable, new=tuple.__new__, len=len):\n",
      "        'Make a new Datos object from a sequence or iterable'\n",
      "        result = new(cls, iterable)\n",
      "        if len(result) != 5:\n",
      "            raise TypeError('Expected 5 arguments, got %d' % len(result))\n",
      "        return result\n",
      "\n",
      "    def _replace(_self, **kwds):\n",
      "        'Return a new Datos object replacing specified fields with new values'\n",
      "        result = _self._make(map(kwds.pop, ('valores', 'frecuencia', 'fecha_inicial', 'parametro', 'unidades'), _self))\n",
      "        if kwds:\n",
      "            raise ValueError('Got unexpected field names: %r' % list(kwds))\n",
      "        return result\n",
      "\n",
      "    def __repr__(self):\n",
      "        'Return a nicely formatted representation string'\n",
      "        return self.__class__.__name__ + '(valores=%r, frecuencia=%r, fecha_inicial=%r, parametro=%r, unidades=%r)' % self\n",
      "\n",
      "    def _asdict(self):\n",
      "        'Return a new OrderedDict which maps field names to their values.'\n",
      "        return OrderedDict(zip(self._fields, self))\n",
      "\n",
      "    def __getnewargs__(self):\n",
      "        'Return self as a plain tuple.  Used by copy and pickle.'\n",
      "        return tuple(self)\n",
      "\n",
      "    valores = _property(_itemgetter(0), doc='Alias for field number 0')\n",
      "\n",
      "    frecuencia = _property(_itemgetter(1), doc='Alias for field number 1')\n",
      "\n",
      "    fecha_inicial = _property(_itemgetter(2), doc='Alias for field number 2')\n",
      "\n",
      "    parametro = _property(_itemgetter(3), doc='Alias for field number 3')\n",
      "\n",
      "    unidades = _property(_itemgetter(4), doc='Alias for field number 4')\n",
      "\n",
      "\n"
     ]
    }
   ],
   "source": [
    "# Lo mismo de antes\n",
    "print(datos._source)"
   ]
  },
  {
   "cell_type": "markdown",
   "metadata": {},
   "source": [
    "* Puedo seguir obteniendo un diccionario (un `OrderedDict`, también incluido en el módulo `collections`) si así lo deseo:"
   ]
  },
  {
   "cell_type": "code",
   "execution_count": 38,
   "metadata": {
    "collapsed": false
   },
   "outputs": [
    {
     "data": {
      "text/plain": [
       "array([-1.15088413, -2.56514991,  1.44608296,  0.54379682, -0.90522011,\n",
       "       -0.16566468, -0.35177371, -0.54329507,  0.49884539, -1.47496928,\n",
       "        0.34977761,  0.17185979,  1.0841466 ,  0.72980301,  0.74948793,\n",
       "       -0.58893627, -1.02718887, -0.91649217,  1.33860119,  0.39608563,\n",
       "       -1.35736068, -1.31573163, -1.83301115,  0.8785257 ,  0.88054639,\n",
       "       -0.70983137, -0.60080374,  0.37122572,  1.35695541, -1.64514249,\n",
       "       -0.43831246, -0.35866056,  1.60847917, -0.22826239, -1.37596102,\n",
       "       -0.95290935,  0.3905279 , -1.19999519,  0.42577439,  0.69913995,\n",
       "        0.86171438,  0.97124497,  0.89628371, -0.70415439, -0.69986264,\n",
       "       -0.06708162,  0.15825805,  0.40558181,  0.04844905, -0.65195386,\n",
       "       -0.78209848,  0.47753236, -1.41130276,  0.56886563,  1.28510891,\n",
       "       -0.92577124,  1.01705266, -0.92242978,  0.55834513,  0.38484962,\n",
       "        0.18166509, -1.66409028,  0.11990668,  0.45760692, -0.57324399,\n",
       "       -1.28583163, -0.00380156,  0.07755123,  0.64245163, -0.41804237,\n",
       "        1.48719097,  0.08556443, -0.59397126, -0.15754885, -0.83679231,\n",
       "        0.43162761, -1.1355951 ,  0.29833502, -1.18802814,  1.07681989,\n",
       "        1.59099178,  1.55838678, -2.63623898, -1.3661257 , -0.25901522,\n",
       "        0.91729319,  0.24629912,  0.32400678, -1.57864924,  1.02031939,\n",
       "       -1.52587005, -0.92695522, -1.42637641, -2.67003242, -0.52319482,\n",
       "        0.48513703, -0.51274288,  0.6409108 , -1.37179502, -0.6796619 ])"
      ]
     },
     "execution_count": 38,
     "metadata": {},
     "output_type": "execute_result"
    }
   ],
   "source": [
    "datos._asdict()['valores']"
   ]
  },
  {
   "cell_type": "markdown",
   "metadata": {},
   "source": [
    "* Puedo crear subclases de forma simple para añadir funcionalidad:"
   ]
  },
  {
   "cell_type": "code",
   "execution_count": 46,
   "metadata": {
    "collapsed": false
   },
   "outputs": [
    {
     "name": "stdout",
     "output_type": "stream",
     "text": [
      "-0.180088021718\n"
     ]
    }
   ],
   "source": [
    "class DatosExtendidos(Datos):\n",
    "    def media(self):\n",
    "        \"Calcula la media de los valores.\"\n",
    "        return self.valores.mean()\n",
    "\n",
    "datos_ext = DatosExtendidos(**datos._asdict())\n",
    "\n",
    "print(datos_ext.media())"
   ]
  },
  {
   "cell_type": "markdown",
   "metadata": {},
   "source": [
    "WOW!!!!!\n",
    "\n",
    "Los ejemplos en la [documentación oficial son muy potentes y dan nuevas ideas de potenciales usos](https://docs.python.org/3/library/collections.html?highlight=collections#collections.namedtuple)."
   ]
  },
  {
   "cell_type": "markdown",
   "metadata": {},
   "source": [
    "## `deque`\n",
    "\n",
    "Otra joyita que quizá debería usar más a menudo sería `deque` en una secuancia mutable (parecido a una lista), pero con una serie de ventajas. Es una cola/lista cuyo principio y fin es 'indistinguible' y es *thread-safe* y que está diseñada para poder insertar y eliminar de forma rápida en ambos extremos de la cola (ahora veremos qué significa todo esto). Un uso evidente es el de usar, por ejemplo, los últimos elementos de tu secuencia ya que:\n",
    "\n"
   ]
  },
  {
   "cell_type": "code",
   "execution_count": 48,
   "metadata": {
    "collapsed": true
   },
   "outputs": [],
   "source": [
    "from collections import deque\n",
    "\n",
    "dq = deque(np.arange(10))"
   ]
  },
  {
   "cell_type": "code",
   "execution_count": 59,
   "metadata": {
    "collapsed": false
   },
   "outputs": [
    {
     "data": {
      "text/plain": [
       "deque([9, 0, 1, 2, 3, 4, 5, 6, 7, 8])"
      ]
     },
     "execution_count": 59,
     "metadata": {},
     "output_type": "execute_result"
    }
   ],
   "source": [
    "dq.rotate(3)\n",
    "dq"
   ]
  },
  {
   "cell_type": "code",
   "execution_count": null,
   "metadata": {
    "collapsed": true
   },
   "outputs": [],
   "source": []
  }
 ],
 "metadata": {
  "kernelspec": {
   "display_name": "Python 3",
   "language": "python",
   "name": "python3"
  },
  "language_info": {
   "codemirror_mode": {
    "name": "ipython",
    "version": 3
   },
   "file_extension": ".py",
   "mimetype": "text/x-python",
   "name": "python",
   "nbconvert_exporter": "python",
   "pygments_lexer": "ipython3",
   "version": "3.5.1"
  }
 },
 "nbformat": 4,
 "nbformat_minor": 0
}
