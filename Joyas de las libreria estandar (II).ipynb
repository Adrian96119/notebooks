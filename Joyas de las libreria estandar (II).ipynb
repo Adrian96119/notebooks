{
 "cells": [
  {
   "cell_type": "markdown",
   "metadata": {},
   "source": [
    "El otro día estuvimos hablando de la [biblioteca `collections`](http://pybonacci.org/2016/05/08/joyitas-en-la-stdlib-collections/), una joya dentro de la librería estándar. Hoy vamos a hablar de una nueva biblioteca que se incluyó en la versión 3.4 de CPython llamada `pathlib`. Esta biblioteca nos da la posibilidad de usar clases para trabajar con las rutas del sistema de ficheros con una serie de métodos muy interesantes.\n",
    "\n",
    "## Ejemplo usando lo disponible hasta hace poco\n",
    "\n",
    "Pensemos en un problema que consiste en identificar todos los ficheros *.py* disponibles en determinada ruta y dejarlos en una nueva carpeta todos juntos sin borrarlos de la carpeta original en la que se encuentren.\n",
    "\n",
    "Vamos a crear un directorio de prueba que se llamará *pybonacci_probando_pathlib* dentro del cual habrá una serie de carpetas y ficheros:"
   ]
  },
  {
   "cell_type": "code",
   "execution_count": 38,
   "metadata": {
    "collapsed": false
   },
   "outputs": [],
   "source": [
    "import os\n",
    "import glob\n",
    "import shutil\n",
    "from random import randint, choice, seed\n",
    "from string import ascii_letters\n",
    "\n",
    "seed(1)\n",
    "\n",
    "base = os.path.join(os.path.curdir,\n",
    "                    'pybonacci_probando_pathlib')\n",
    "os.makedirs(base, exist_ok = True)\n",
    "\n",
    "for i in range(0, randint(3, 5)):\n",
    "    folder = ''.join([choice(ascii_letters) for _ in range(4)])\n",
    "    path = os.path.join(base, folder)\n",
    "    os.makedirs(path, exist_ok = True)\n",
    "    for j in range(0, randint(2, 5)):\n",
    "        ext = choice(['.txt', '.py', '.html'])\n",
    "        name = ''.join([choice(ascii_letters) for _ in range(randint(5, 10))])\n",
    "        filename = name + ext\n",
    "        path2 = os.path.join(path, filename)\n",
    "        open(path2, 'w').close()"
   ]
  },
  {
   "cell_type": "markdown",
   "metadata": {},
   "source": [
    "Nos debería quedar una estructura parecida a lo siguiente:\n",
    "\n",
    "    pybonacci_probando_pathlib/\n",
    "    ├── KZWe\n",
    "    │   ├── CrUZoLgubb.txt\n",
    "    │   ├── IayRnBUbHo.txt\n",
    "    │   ├── WCEPyYng.txt\n",
    "    │   └── yBMWX.py\n",
    "    ├── WCFJ\n",
    "    │   ├── GBGQmtsLFG.html\n",
    "    │   ├── PglOUshVv.py\n",
    "    │   └── RoWDsb.py\n",
    "    └── zLcE\n",
    "        ├── AQlxJSXR.html\n",
    "        ├── fCQGgXk.html\n",
    "        └── xFUbEctT.html\n",
    "\n",
    "Ok, vamos a mover todo los ficheros *.py* a la carpeta *tmp* dentro de *pybonacci_probando_pathlib* de la forma 'antigua'. ¿Cómo sería esto?"
   ]
  },
  {
   "cell_type": "code",
   "execution_count": 39,
   "metadata": {
    "collapsed": false
   },
   "outputs": [],
   "source": [
    "# recolectamos todos los ficheros *.py con sus rutas\n",
    "ficheros_py = glob.glob(os.path.join(base, '**', '*.py'))\n",
    "\n",
    "# creamos la carpeta tmp dentro de pybonacci_probando_pathlib\n",
    "os.makedirs(os.path.join(base, 'tmp'), exist_ok = True)\n",
    "\n",
    "# y copiamos los ficheros a la nueva carpeta tmp\n",
    "for f in ficheros_py:\n",
    "    fich = f.split(os.path.sep)[-1]\n",
    "    shutil.copyfile(f, os.path.join(base, 'tmp', fich))"
   ]
  },
  {
   "cell_type": "markdown",
   "metadata": {},
   "source": [
    "En el anterior ejemplo hemos tenido que usar las bibliotecas `glob`, `os` y `shutil` para poder realizar una operación relativamente sencilla.\n",
    "\n",
    "Esto no es del todo deseable.\n",
    "\n",
    "Pero, por suerte, disponemos de la nueva biblioteca `pathlib`. Veamos el mismo ejemplo usando esta librería. Primero borramos la carpeta *tmp*."
   ]
  },
  {
   "cell_type": "code",
   "execution_count": 40,
   "metadata": {
    "collapsed": false
   },
   "outputs": [],
   "source": [
    "from pathlib import Path\n",
    "\n",
    "p = Path('.', 'pybonacci_probando_pathlib', 'tmp')\n",
    "for i in p.iterdir():\n",
    "    i.unlink()\n",
    "p.rmdir()"
   ]
  },
  {
   "cell_type": "markdown",
   "metadata": {},
   "source": [
    "Lo anterior, con `shutil` sería `shutil.rmtree(path_to_folder_to_remove)`, un poco más sencillo. Esto es lo único que hecho de menos en `pathlib`. Algo negativo tenía que tener.\n",
    "\n",
    "Ahora veamos cómo realizar lo mismo que antes usando `pathlib`."
   ]
  },
  {
   "cell_type": "code",
   "execution_count": 95,
   "metadata": {
    "collapsed": false
   },
   "outputs": [],
   "source": [
    "# recolectamos todos los ficheros *.py con sus rutas\n",
    "p = Path('.', 'pybonacci_probando_pathlib')\n",
    "ficheros_py = list(p.glob('**/*.py'))\n",
    "\n",
    "# creamos la carpeta tmp dentro de pybonacci_probando_pathlib\n",
    "(p / 'tmp').mkdir(mode = 0o777, exist_ok = True)\n",
    "\n",
    "# y copiamos los ficheros a la nueva carpeta tmp\n",
    "for f in ficheros_py:\n",
    "    data = f.open().readline()\n",
    "    with open(str(Path(p, 'tmp', f.parts[-1])), 'w') as f:\n",
    "        f.write(data)"
   ]
  }
 ],
 "metadata": {
  "kernelspec": {
   "display_name": "Python 3",
   "language": "python",
   "name": "python3"
  },
  "language_info": {
   "codemirror_mode": {
    "name": "ipython",
    "version": 3
   },
   "file_extension": ".py",
   "mimetype": "text/x-python",
   "name": "python",
   "nbconvert_exporter": "python",
   "pygments_lexer": "ipython3",
   "version": "3.5.1"
  }
 },
 "nbformat": 4,
 "nbformat_minor": 0
}
